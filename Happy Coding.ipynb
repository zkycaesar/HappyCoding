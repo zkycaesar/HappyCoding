{
 "cells": [
  {
   "cell_type": "markdown",
   "metadata": {},
   "source": [
    "# Problem1: 4Sum II"
   ]
  },
  {
   "cell_type": "markdown",
   "metadata": {},
   "source": [
    "## Description:"
   ]
  },
  {
   "cell_type": "markdown",
   "metadata": {},
   "source": [
    "> Given four lists A, B, C, D of integer values, compute how many tuples (i, j, k, l) there are such that A[i] + B[j] + C[k] + D[l] is zero.\n",
    "\n",
    "> To make problem a bit easier, all A, B, C, D have same length of N where 0 ≤ N ≤ 500. All integers are in the range of -228 to 228 - 1 and the result is guaranteed to be at most 231 - 1."
   ]
  },
  {
   "cell_type": "markdown",
   "metadata": {},
   "source": [
    "## Example:"
   ]
  },
  {
   "cell_type": "markdown",
   "metadata": {},
   "source": [
    "> Input:\n",
    "A = [ 1, 2]\n",
    "B = [-2,-1]\n",
    "C = [-1, 2]\n",
    "D = [ 0, 2]\n",
    "\n",
    "> Output:\n",
    "2\n",
    "\n",
    "> Explanation:\n",
    "The two tuples are:\n",
    "1. (0, 0, 0, 1) -> A[0] + B[0] + C[0] + D[1] = 1 + (-2) + (-1) + 2 = 0\n",
    "2. (1, 1, 0, 0) -> A[1] + B[1] + C[0] + D[0] = 2 + (-1) + (-1) + 0 = 0"
   ]
  },
  {
   "cell_type": "markdown",
   "metadata": {},
   "source": [
    "## Solution 1:"
   ]
  },
  {
   "cell_type": "code",
   "execution_count": null,
   "metadata": {
    "collapsed": true
   },
   "outputs": [],
   "source": [
    "def fourSumII1(A, B, C, D):\n",
    "    num = len(A)\n",
    "    res = 0\n",
    "    for i in range(num):\n",
    "        for j in range(num):\n",
    "            for k in range(num):\n",
    "                for l in range(num):\n",
    "                    if A[i] + B[j] + C[k] + D[l] == 0:\n",
    "                        res += 1\n",
    "    return res"
   ]
  },
  {
   "cell_type": "markdown",
   "metadata": {},
   "source": [
    "时间复杂度：$O(N^4)$"
   ]
  },
  {
   "cell_type": "markdown",
   "metadata": {},
   "source": [
    "## Solution 2:"
   ]
  },
  {
   "cell_type": "code",
   "execution_count": null,
   "metadata": {
    "collapsed": true
   },
   "outputs": [],
   "source": [
    "import collections\n",
    "def forSumII2(A, B, C, D):\n",
    "    AB = collections.Counter(a+b for a in A for b in B)\n",
    "    return sum(AB[-c-d for c in C for d in D])"
   ]
  },
  {
   "cell_type": "markdown",
   "metadata": {},
   "source": [
    "时间复杂度：$O(N^2)$"
   ]
  },
  {
   "cell_type": "markdown",
   "metadata": {
    "collapsed": true
   },
   "source": [
    "\n",
    "\n",
    "\n",
    "\n",
    "\n",
    "\n",
    "# Problem 2: Count The Repetitions"
   ]
  },
  {
   "cell_type": "markdown",
   "metadata": {},
   "source": [
    "## Description:"
   ]
  },
  {
   "cell_type": "markdown",
   "metadata": {},
   "source": [
    "> Define S = [s,n] as the string S which consists of n connected strings s. For example, [\"abc\", 3] =\"abcabcabc\".\n",
    "\n",
    "> On the other hand, we define that string s1 can be obtained from string s2 if we can remove some characters from s2 such that it becomes s1. For example, “abc” can be obtained from “abdbec” based on our definition, but it can not be obtained from “acbbe”.\n",
    "\n",
    "> You are given two non-empty strings s1 and s2 (each at most 100 characters long) and two integers $0 ≤ n1 ≤ 10^6 $ and $1 ≤ n2 ≤ 10^6 $. Now consider the strings S1 and S2, where S1=[s1,n1] and S2=[s2,n2]. Find the maximum integer M such that [S2,M] can be obtained from S1."
   ]
  },
  {
   "cell_type": "markdown",
   "metadata": {},
   "source": [
    "## Example: "
   ]
  },
  {
   "cell_type": "markdown",
   "metadata": {},
   "source": [
    "> Input:\n",
    "s1=\"acb\", n1=4\n",
    "s2=\"ab\", n2=2\n",
    "\n",
    "> Return:\n",
    "2"
   ]
  },
  {
   "cell_type": "markdown",
   "metadata": {},
   "source": [
    "## Solution 1:"
   ]
  },
  {
   "cell_type": "code",
   "execution_count": null,
   "metadata": {
    "collapsed": true
   },
   "outputs": [],
   "source": [
    "def getMaxRepetitions(s1, n1, s2, n2):\n",
    "    repeatTimeTable = []\n",
    "    nextPosTable = []\n",
    "    patternBegin = 0\n",
    "    patternEnd = 0\n",
    "    nextPos = 0\n",
    "    repeatTime = 0\n",
    "    currentRound = 0\n",
    "\n",
    "    while True:\n",
    "        for i in range(len(s1)):\n",
    "            if s1[i] == s2[nextPos]:\n",
    "                nextPos += 1\n",
    "                if nextPos == len(s2):\n",
    "                    nextPos = 0\n",
    "                    repeatTime += 1\n",
    "        repeatTimeTable.append(repeatTime)\n",
    "        nextPosTable.append(nextPos)\n",
    "        for k in range(currentRound):\n",
    "            if nextPosTable[currentRound] == nextPosTable[k]:\n",
    "                patternBegin = k + 1\n",
    "                patternEnd = currentRound + 1\n",
    "                repeatTimeTable.append(repeatTimeTable[currentRound] + repeatTimeTable[k + 1] - repeatTimeTable[k])\n",
    "                nextPosTable.append(nextPosTable[k + 1])\n",
    "                break\n",
    "        if patternEnd > 0:\n",
    "            break\n",
    "        if currentRound >= n1:\n",
    "            break\n",
    "        currentRound += 1\n",
    "\n",
    "    if patternEnd == 0 or patternEnd >= n1:\n",
    "        return int(repeatTime / n2)\n",
    "\n",
    "    period = patternEnd - patternBegin\n",
    "    repeatTimeTotal = (n1 - patternBegin) / period * (repeatTimeTable[patternEnd] - repeatTimeTable[patternBegin])\n",
    "    if patternBegin > 0:\n",
    "        repeatTimeTotal += repeatTimeTable[patternBegin - 1]\n",
    "    repeatTimeTotal += repeatTimeTable[(n1 - patternBegin) % period + patternBegin - 1] - repeatTimeTable[patternBegin-1]\n",
    "    return int(repeatTimeTotal / n2)"
   ]
  }
 ],
 "metadata": {
  "kernelspec": {
   "display_name": "Python 2",
   "language": "python",
   "name": "python2"
  },
  "language_info": {
   "codemirror_mode": {
    "name": "ipython",
    "version": 2
   },
   "file_extension": ".py",
   "mimetype": "text/x-python",
   "name": "python",
   "nbconvert_exporter": "python",
   "pygments_lexer": "ipython2",
   "version": "2.7.11"
  }
 },
 "nbformat": 4,
 "nbformat_minor": 0
}
